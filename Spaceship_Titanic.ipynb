{
 "cells": [
  {
   "cell_type": "markdown",
   "id": "3f670c6e",
   "metadata": {},
   "source": [
    "# Import Packages "
   ]
  },
  {
   "cell_type": "code",
   "execution_count": 143,
   "id": "3fe58538",
   "metadata": {},
   "outputs": [],
   "source": [
    "import pandas as pd\n",
    "from matplotlib import pyplot as plt\n",
    "import numpy as np\n",
    "import seaborn as sns\n",
    "from sklearn.pipeline import Pipeline\n",
    "from sklearn.preprocessing import FunctionTransformer, LabelEncoder, StandardScaler\n",
    "from sklearn.model_selection import GridSearchCV, cross_validate\n",
    "from sklearn_pandas import DataFrameMapper, gen_features\n",
    "from xgboost import XGBClassifier\n",
    "from lightgbm import LGBMClassifier, plot_importance\n",
    "from sklearn.linear_model import LogisticRegression\n",
    "\n",
    "import warnings\n",
    "warnings.simplefilter(action='ignore')"
   ]
  },
  {
   "cell_type": "markdown",
   "id": "284fe1ca",
   "metadata": {},
   "source": [
    "# Import Data"
   ]
  },
  {
   "cell_type": "code",
   "execution_count": 144,
   "id": "070c7fd9",
   "metadata": {},
   "outputs": [],
   "source": [
    "train = pd.read_csv(\"train.csv\")\n",
    "x_train = train.drop(\"Transported\", axis = 1).copy()\n",
    "y_train = train[['Transported']]\n",
    "test = pd.read_csv(\"test.csv\")"
   ]
  },
  {
   "cell_type": "markdown",
   "id": "681544b8",
   "metadata": {},
   "source": [
    "# Data Exploration"
   ]
  },
  {
   "cell_type": "code",
   "execution_count": 145,
   "id": "13e70be7",
   "metadata": {},
   "outputs": [
    {
     "data": {
      "text/html": [
       "<div>\n",
       "<style scoped>\n",
       "    .dataframe tbody tr th:only-of-type {\n",
       "        vertical-align: middle;\n",
       "    }\n",
       "\n",
       "    .dataframe tbody tr th {\n",
       "        vertical-align: top;\n",
       "    }\n",
       "\n",
       "    .dataframe thead th {\n",
       "        text-align: right;\n",
       "    }\n",
       "</style>\n",
       "<table border=\"1\" class=\"dataframe\">\n",
       "  <thead>\n",
       "    <tr style=\"text-align: right;\">\n",
       "      <th></th>\n",
       "      <th>PassengerId</th>\n",
       "      <th>HomePlanet</th>\n",
       "      <th>CryoSleep</th>\n",
       "      <th>Cabin</th>\n",
       "      <th>Destination</th>\n",
       "      <th>Age</th>\n",
       "      <th>VIP</th>\n",
       "      <th>RoomService</th>\n",
       "      <th>FoodCourt</th>\n",
       "      <th>ShoppingMall</th>\n",
       "      <th>Spa</th>\n",
       "      <th>VRDeck</th>\n",
       "      <th>Name</th>\n",
       "      <th>Transported</th>\n",
       "    </tr>\n",
       "  </thead>\n",
       "  <tbody>\n",
       "    <tr>\n",
       "      <th>0</th>\n",
       "      <td>0001_01</td>\n",
       "      <td>Europa</td>\n",
       "      <td>False</td>\n",
       "      <td>B/0/P</td>\n",
       "      <td>TRAPPIST-1e</td>\n",
       "      <td>39.0</td>\n",
       "      <td>False</td>\n",
       "      <td>0.0</td>\n",
       "      <td>0.0</td>\n",
       "      <td>0.0</td>\n",
       "      <td>0.0</td>\n",
       "      <td>0.0</td>\n",
       "      <td>Maham Ofracculy</td>\n",
       "      <td>False</td>\n",
       "    </tr>\n",
       "    <tr>\n",
       "      <th>1</th>\n",
       "      <td>0002_01</td>\n",
       "      <td>Earth</td>\n",
       "      <td>False</td>\n",
       "      <td>F/0/S</td>\n",
       "      <td>TRAPPIST-1e</td>\n",
       "      <td>24.0</td>\n",
       "      <td>False</td>\n",
       "      <td>109.0</td>\n",
       "      <td>9.0</td>\n",
       "      <td>25.0</td>\n",
       "      <td>549.0</td>\n",
       "      <td>44.0</td>\n",
       "      <td>Juanna Vines</td>\n",
       "      <td>True</td>\n",
       "    </tr>\n",
       "    <tr>\n",
       "      <th>2</th>\n",
       "      <td>0003_01</td>\n",
       "      <td>Europa</td>\n",
       "      <td>False</td>\n",
       "      <td>A/0/S</td>\n",
       "      <td>TRAPPIST-1e</td>\n",
       "      <td>58.0</td>\n",
       "      <td>True</td>\n",
       "      <td>43.0</td>\n",
       "      <td>3576.0</td>\n",
       "      <td>0.0</td>\n",
       "      <td>6715.0</td>\n",
       "      <td>49.0</td>\n",
       "      <td>Altark Susent</td>\n",
       "      <td>False</td>\n",
       "    </tr>\n",
       "    <tr>\n",
       "      <th>3</th>\n",
       "      <td>0003_02</td>\n",
       "      <td>Europa</td>\n",
       "      <td>False</td>\n",
       "      <td>A/0/S</td>\n",
       "      <td>TRAPPIST-1e</td>\n",
       "      <td>33.0</td>\n",
       "      <td>False</td>\n",
       "      <td>0.0</td>\n",
       "      <td>1283.0</td>\n",
       "      <td>371.0</td>\n",
       "      <td>3329.0</td>\n",
       "      <td>193.0</td>\n",
       "      <td>Solam Susent</td>\n",
       "      <td>False</td>\n",
       "    </tr>\n",
       "    <tr>\n",
       "      <th>4</th>\n",
       "      <td>0004_01</td>\n",
       "      <td>Earth</td>\n",
       "      <td>False</td>\n",
       "      <td>F/1/S</td>\n",
       "      <td>TRAPPIST-1e</td>\n",
       "      <td>16.0</td>\n",
       "      <td>False</td>\n",
       "      <td>303.0</td>\n",
       "      <td>70.0</td>\n",
       "      <td>151.0</td>\n",
       "      <td>565.0</td>\n",
       "      <td>2.0</td>\n",
       "      <td>Willy Santantines</td>\n",
       "      <td>True</td>\n",
       "    </tr>\n",
       "  </tbody>\n",
       "</table>\n",
       "</div>"
      ],
      "text/plain": [
       "  PassengerId HomePlanet CryoSleep  Cabin  Destination   Age    VIP  \\\n",
       "0     0001_01     Europa     False  B/0/P  TRAPPIST-1e  39.0  False   \n",
       "1     0002_01      Earth     False  F/0/S  TRAPPIST-1e  24.0  False   \n",
       "2     0003_01     Europa     False  A/0/S  TRAPPIST-1e  58.0   True   \n",
       "3     0003_02     Europa     False  A/0/S  TRAPPIST-1e  33.0  False   \n",
       "4     0004_01      Earth     False  F/1/S  TRAPPIST-1e  16.0  False   \n",
       "\n",
       "   RoomService  FoodCourt  ShoppingMall     Spa  VRDeck               Name  \\\n",
       "0          0.0        0.0           0.0     0.0     0.0    Maham Ofracculy   \n",
       "1        109.0        9.0          25.0   549.0    44.0       Juanna Vines   \n",
       "2         43.0     3576.0           0.0  6715.0    49.0      Altark Susent   \n",
       "3          0.0     1283.0         371.0  3329.0   193.0       Solam Susent   \n",
       "4        303.0       70.0         151.0   565.0     2.0  Willy Santantines   \n",
       "\n",
       "   Transported  \n",
       "0        False  \n",
       "1         True  \n",
       "2        False  \n",
       "3        False  \n",
       "4         True  "
      ]
     },
     "execution_count": 145,
     "metadata": {},
     "output_type": "execute_result"
    }
   ],
   "source": [
    "train.head()"
   ]
  },
  {
   "cell_type": "code",
   "execution_count": 146,
   "id": "4f6b4bf8",
   "metadata": {},
   "outputs": [
    {
     "data": {
      "text/plain": [
       "Index(['PassengerId', 'HomePlanet', 'CryoSleep', 'Cabin', 'Destination', 'Age',\n",
       "       'VIP', 'RoomService', 'FoodCourt', 'ShoppingMall', 'Spa', 'VRDeck',\n",
       "       'Name', 'Transported'],\n",
       "      dtype='object')"
      ]
     },
     "execution_count": 146,
     "metadata": {},
     "output_type": "execute_result"
    }
   ],
   "source": [
    "#columns\n",
    "train.keys()"
   ]
  },
  {
   "cell_type": "code",
   "execution_count": 147,
   "id": "6709f802",
   "metadata": {},
   "outputs": [
    {
     "data": {
      "text/html": [
       "<div>\n",
       "<style scoped>\n",
       "    .dataframe tbody tr th:only-of-type {\n",
       "        vertical-align: middle;\n",
       "    }\n",
       "\n",
       "    .dataframe tbody tr th {\n",
       "        vertical-align: top;\n",
       "    }\n",
       "\n",
       "    .dataframe thead th {\n",
       "        text-align: right;\n",
       "    }\n",
       "</style>\n",
       "<table border=\"1\" class=\"dataframe\">\n",
       "  <thead>\n",
       "    <tr style=\"text-align: right;\">\n",
       "      <th></th>\n",
       "      <th>Age</th>\n",
       "      <th>RoomService</th>\n",
       "      <th>FoodCourt</th>\n",
       "      <th>ShoppingMall</th>\n",
       "      <th>Spa</th>\n",
       "      <th>VRDeck</th>\n",
       "    </tr>\n",
       "  </thead>\n",
       "  <tbody>\n",
       "    <tr>\n",
       "      <th>count</th>\n",
       "      <td>8514.000000</td>\n",
       "      <td>8512.000000</td>\n",
       "      <td>8510.000000</td>\n",
       "      <td>8485.000000</td>\n",
       "      <td>8510.000000</td>\n",
       "      <td>8505.000000</td>\n",
       "    </tr>\n",
       "    <tr>\n",
       "      <th>mean</th>\n",
       "      <td>28.827930</td>\n",
       "      <td>224.687617</td>\n",
       "      <td>458.077203</td>\n",
       "      <td>173.729169</td>\n",
       "      <td>311.138778</td>\n",
       "      <td>304.854791</td>\n",
       "    </tr>\n",
       "    <tr>\n",
       "      <th>std</th>\n",
       "      <td>14.489021</td>\n",
       "      <td>666.717663</td>\n",
       "      <td>1611.489240</td>\n",
       "      <td>604.696458</td>\n",
       "      <td>1136.705535</td>\n",
       "      <td>1145.717189</td>\n",
       "    </tr>\n",
       "    <tr>\n",
       "      <th>min</th>\n",
       "      <td>0.000000</td>\n",
       "      <td>0.000000</td>\n",
       "      <td>0.000000</td>\n",
       "      <td>0.000000</td>\n",
       "      <td>0.000000</td>\n",
       "      <td>0.000000</td>\n",
       "    </tr>\n",
       "    <tr>\n",
       "      <th>5%</th>\n",
       "      <td>4.000000</td>\n",
       "      <td>0.000000</td>\n",
       "      <td>0.000000</td>\n",
       "      <td>0.000000</td>\n",
       "      <td>0.000000</td>\n",
       "      <td>0.000000</td>\n",
       "    </tr>\n",
       "    <tr>\n",
       "      <th>25%</th>\n",
       "      <td>19.000000</td>\n",
       "      <td>0.000000</td>\n",
       "      <td>0.000000</td>\n",
       "      <td>0.000000</td>\n",
       "      <td>0.000000</td>\n",
       "      <td>0.000000</td>\n",
       "    </tr>\n",
       "    <tr>\n",
       "      <th>50%</th>\n",
       "      <td>27.000000</td>\n",
       "      <td>0.000000</td>\n",
       "      <td>0.000000</td>\n",
       "      <td>0.000000</td>\n",
       "      <td>0.000000</td>\n",
       "      <td>0.000000</td>\n",
       "    </tr>\n",
       "    <tr>\n",
       "      <th>75%</th>\n",
       "      <td>38.000000</td>\n",
       "      <td>47.000000</td>\n",
       "      <td>76.000000</td>\n",
       "      <td>27.000000</td>\n",
       "      <td>59.000000</td>\n",
       "      <td>46.000000</td>\n",
       "    </tr>\n",
       "    <tr>\n",
       "      <th>90%</th>\n",
       "      <td>49.000000</td>\n",
       "      <td>753.000000</td>\n",
       "      <td>1026.000000</td>\n",
       "      <td>619.600000</td>\n",
       "      <td>732.000000</td>\n",
       "      <td>732.600000</td>\n",
       "    </tr>\n",
       "    <tr>\n",
       "      <th>max</th>\n",
       "      <td>79.000000</td>\n",
       "      <td>14327.000000</td>\n",
       "      <td>29813.000000</td>\n",
       "      <td>23492.000000</td>\n",
       "      <td>22408.000000</td>\n",
       "      <td>24133.000000</td>\n",
       "    </tr>\n",
       "  </tbody>\n",
       "</table>\n",
       "</div>"
      ],
      "text/plain": [
       "               Age   RoomService     FoodCourt  ShoppingMall           Spa  \\\n",
       "count  8514.000000   8512.000000   8510.000000   8485.000000   8510.000000   \n",
       "mean     28.827930    224.687617    458.077203    173.729169    311.138778   \n",
       "std      14.489021    666.717663   1611.489240    604.696458   1136.705535   \n",
       "min       0.000000      0.000000      0.000000      0.000000      0.000000   \n",
       "5%        4.000000      0.000000      0.000000      0.000000      0.000000   \n",
       "25%      19.000000      0.000000      0.000000      0.000000      0.000000   \n",
       "50%      27.000000      0.000000      0.000000      0.000000      0.000000   \n",
       "75%      38.000000     47.000000     76.000000     27.000000     59.000000   \n",
       "90%      49.000000    753.000000   1026.000000    619.600000    732.000000   \n",
       "max      79.000000  14327.000000  29813.000000  23492.000000  22408.000000   \n",
       "\n",
       "             VRDeck  \n",
       "count   8505.000000  \n",
       "mean     304.854791  \n",
       "std     1145.717189  \n",
       "min        0.000000  \n",
       "5%         0.000000  \n",
       "25%        0.000000  \n",
       "50%        0.000000  \n",
       "75%       46.000000  \n",
       "90%      732.600000  \n",
       "max    24133.000000  "
      ]
     },
     "execution_count": 147,
     "metadata": {},
     "output_type": "execute_result"
    }
   ],
   "source": [
    "#summary statistics\n",
    "perc =[.05, 0.25, 0.50, 0.75, 0.9]\n",
    "train.describe(percentiles = perc)"
   ]
  },
  {
   "cell_type": "code",
   "execution_count": 148,
   "id": "5cb3a9e3",
   "metadata": {},
   "outputs": [
    {
     "data": {
      "text/html": [
       "<div>\n",
       "<style scoped>\n",
       "    .dataframe tbody tr th:only-of-type {\n",
       "        vertical-align: middle;\n",
       "    }\n",
       "\n",
       "    .dataframe tbody tr th {\n",
       "        vertical-align: top;\n",
       "    }\n",
       "\n",
       "    .dataframe thead th {\n",
       "        text-align: right;\n",
       "    }\n",
       "</style>\n",
       "<table border=\"1\" class=\"dataframe\">\n",
       "  <thead>\n",
       "    <tr style=\"text-align: right;\">\n",
       "      <th></th>\n",
       "      <th></th>\n",
       "      <th></th>\n",
       "      <th></th>\n",
       "      <th>Age</th>\n",
       "      <th>RoomService</th>\n",
       "      <th>FoodCourt</th>\n",
       "      <th>ShoppingMall</th>\n",
       "      <th>Spa</th>\n",
       "      <th>VRDeck</th>\n",
       "    </tr>\n",
       "    <tr>\n",
       "      <th>HomePlanet</th>\n",
       "      <th>Destination</th>\n",
       "      <th>CryoSleep</th>\n",
       "      <th>Transported</th>\n",
       "      <th></th>\n",
       "      <th></th>\n",
       "      <th></th>\n",
       "      <th></th>\n",
       "      <th></th>\n",
       "      <th></th>\n",
       "    </tr>\n",
       "  </thead>\n",
       "  <tbody>\n",
       "    <tr>\n",
       "      <th rowspan=\"12\" valign=\"top\">Earth</th>\n",
       "      <th rowspan=\"4\" valign=\"top\">55 Cancri e</th>\n",
       "      <th rowspan=\"2\" valign=\"top\">False</th>\n",
       "      <th>False</th>\n",
       "      <td>25.693380</td>\n",
       "      <td>284.230769</td>\n",
       "      <td>133.195652</td>\n",
       "      <td>133.583630</td>\n",
       "      <td>247.618375</td>\n",
       "      <td>199.256228</td>\n",
       "    </tr>\n",
       "    <tr>\n",
       "      <th>True</th>\n",
       "      <td>22.781421</td>\n",
       "      <td>80.524862</td>\n",
       "      <td>240.901639</td>\n",
       "      <td>268.609890</td>\n",
       "      <td>82.039106</td>\n",
       "      <td>73.713483</td>\n",
       "    </tr>\n",
       "    <tr>\n",
       "      <th rowspan=\"2\" valign=\"top\">True</th>\n",
       "      <th>False</th>\n",
       "      <td>22.088889</td>\n",
       "      <td>0.000000</td>\n",
       "      <td>0.000000</td>\n",
       "      <td>0.000000</td>\n",
       "      <td>0.000000</td>\n",
       "      <td>0.000000</td>\n",
       "    </tr>\n",
       "    <tr>\n",
       "      <th>True</th>\n",
       "      <td>20.467532</td>\n",
       "      <td>0.000000</td>\n",
       "      <td>0.000000</td>\n",
       "      <td>0.000000</td>\n",
       "      <td>0.000000</td>\n",
       "      <td>0.000000</td>\n",
       "    </tr>\n",
       "    <tr>\n",
       "      <th rowspan=\"4\" valign=\"top\">PSO J318.5-22</th>\n",
       "      <th rowspan=\"2\" valign=\"top\">False</th>\n",
       "      <th>False</th>\n",
       "      <td>30.649123</td>\n",
       "      <td>152.048246</td>\n",
       "      <td>167.122807</td>\n",
       "      <td>134.413043</td>\n",
       "      <td>222.578947</td>\n",
       "      <td>314.836283</td>\n",
       "    </tr>\n",
       "    <tr>\n",
       "      <th>True</th>\n",
       "      <td>27.650943</td>\n",
       "      <td>134.355769</td>\n",
       "      <td>196.009524</td>\n",
       "      <td>327.858491</td>\n",
       "      <td>81.524272</td>\n",
       "      <td>99.392523</td>\n",
       "    </tr>\n",
       "    <tr>\n",
       "      <th rowspan=\"2\" valign=\"top\">True</th>\n",
       "      <th>False</th>\n",
       "      <td>25.424779</td>\n",
       "      <td>0.000000</td>\n",
       "      <td>0.000000</td>\n",
       "      <td>0.000000</td>\n",
       "      <td>0.000000</td>\n",
       "      <td>0.000000</td>\n",
       "    </tr>\n",
       "    <tr>\n",
       "      <th>True</th>\n",
       "      <td>23.187234</td>\n",
       "      <td>0.000000</td>\n",
       "      <td>0.000000</td>\n",
       "      <td>0.000000</td>\n",
       "      <td>0.000000</td>\n",
       "      <td>0.000000</td>\n",
       "    </tr>\n",
       "    <tr>\n",
       "      <th rowspan=\"4\" valign=\"top\">TRAPPIST-1e</th>\n",
       "      <th rowspan=\"2\" valign=\"top\">False</th>\n",
       "      <th>False</th>\n",
       "      <td>28.459333</td>\n",
       "      <td>244.993293</td>\n",
       "      <td>138.236315</td>\n",
       "      <td>131.253989</td>\n",
       "      <td>279.934536</td>\n",
       "      <td>253.878768</td>\n",
       "    </tr>\n",
       "    <tr>\n",
       "      <th>True</th>\n",
       "      <td>25.937031</td>\n",
       "      <td>108.468468</td>\n",
       "      <td>346.874622</td>\n",
       "      <td>333.358434</td>\n",
       "      <td>73.248485</td>\n",
       "      <td>88.681335</td>\n",
       "    </tr>\n",
       "    <tr>\n",
       "      <th rowspan=\"2\" valign=\"top\">True</th>\n",
       "      <th>False</th>\n",
       "      <td>23.860000</td>\n",
       "      <td>0.000000</td>\n",
       "      <td>0.000000</td>\n",
       "      <td>0.000000</td>\n",
       "      <td>0.000000</td>\n",
       "      <td>0.000000</td>\n",
       "    </tr>\n",
       "    <tr>\n",
       "      <th>True</th>\n",
       "      <td>22.673554</td>\n",
       "      <td>0.000000</td>\n",
       "      <td>0.000000</td>\n",
       "      <td>0.000000</td>\n",
       "      <td>0.000000</td>\n",
       "      <td>0.000000</td>\n",
       "    </tr>\n",
       "    <tr>\n",
       "      <th rowspan=\"11\" valign=\"top\">Europa</th>\n",
       "      <th rowspan=\"4\" valign=\"top\">55 Cancri e</th>\n",
       "      <th rowspan=\"2\" valign=\"top\">False</th>\n",
       "      <th>False</th>\n",
       "      <td>37.459459</td>\n",
       "      <td>388.440154</td>\n",
       "      <td>2076.888462</td>\n",
       "      <td>174.710938</td>\n",
       "      <td>2487.615686</td>\n",
       "      <td>2681.730469</td>\n",
       "    </tr>\n",
       "    <tr>\n",
       "      <th>True</th>\n",
       "      <td>34.026316</td>\n",
       "      <td>93.175325</td>\n",
       "      <td>5597.025806</td>\n",
       "      <td>422.703226</td>\n",
       "      <td>441.425806</td>\n",
       "      <td>555.090909</td>\n",
       "    </tr>\n",
       "    <tr>\n",
       "      <th rowspan=\"2\" valign=\"top\">True</th>\n",
       "      <th>False</th>\n",
       "      <td>25.000000</td>\n",
       "      <td>0.000000</td>\n",
       "      <td>0.000000</td>\n",
       "      <td>0.000000</td>\n",
       "      <td>0.000000</td>\n",
       "      <td>0.000000</td>\n",
       "    </tr>\n",
       "    <tr>\n",
       "      <th>True</th>\n",
       "      <td>32.753521</td>\n",
       "      <td>0.000000</td>\n",
       "      <td>0.000000</td>\n",
       "      <td>0.000000</td>\n",
       "      <td>0.000000</td>\n",
       "      <td>0.000000</td>\n",
       "    </tr>\n",
       "    <tr>\n",
       "      <th rowspan=\"3\" valign=\"top\">PSO J318.5-22</th>\n",
       "      <th rowspan=\"2\" valign=\"top\">False</th>\n",
       "      <th>False</th>\n",
       "      <td>39.800000</td>\n",
       "      <td>626.250000</td>\n",
       "      <td>978.200000</td>\n",
       "      <td>393.400000</td>\n",
       "      <td>4471.000000</td>\n",
       "      <td>3530.600000</td>\n",
       "    </tr>\n",
       "    <tr>\n",
       "      <th>True</th>\n",
       "      <td>36.800000</td>\n",
       "      <td>14.200000</td>\n",
       "      <td>5953.500000</td>\n",
       "      <td>4.200000</td>\n",
       "      <td>47.000000</td>\n",
       "      <td>545.200000</td>\n",
       "    </tr>\n",
       "    <tr>\n",
       "      <th>True</th>\n",
       "      <th>True</th>\n",
       "      <td>34.222222</td>\n",
       "      <td>0.000000</td>\n",
       "      <td>0.000000</td>\n",
       "      <td>0.000000</td>\n",
       "      <td>0.000000</td>\n",
       "      <td>0.000000</td>\n",
       "    </tr>\n",
       "    <tr>\n",
       "      <th rowspan=\"4\" valign=\"top\">TRAPPIST-1e</th>\n",
       "      <th rowspan=\"2\" valign=\"top\">False</th>\n",
       "      <th>False</th>\n",
       "      <td>36.434889</td>\n",
       "      <td>326.254950</td>\n",
       "      <td>1562.293689</td>\n",
       "      <td>164.162562</td>\n",
       "      <td>2108.850856</td>\n",
       "      <td>2123.218447</td>\n",
       "    </tr>\n",
       "    <tr>\n",
       "      <th>True</th>\n",
       "      <td>34.068493</td>\n",
       "      <td>132.938983</td>\n",
       "      <td>3284.760417</td>\n",
       "      <td>458.506897</td>\n",
       "      <td>351.068729</td>\n",
       "      <td>349.675862</td>\n",
       "    </tr>\n",
       "    <tr>\n",
       "      <th rowspan=\"2\" valign=\"top\">True</th>\n",
       "      <th>False</th>\n",
       "      <td>17.875000</td>\n",
       "      <td>0.000000</td>\n",
       "      <td>0.000000</td>\n",
       "      <td>0.000000</td>\n",
       "      <td>0.000000</td>\n",
       "      <td>0.000000</td>\n",
       "    </tr>\n",
       "    <tr>\n",
       "      <th>True</th>\n",
       "      <td>33.374419</td>\n",
       "      <td>0.000000</td>\n",
       "      <td>0.000000</td>\n",
       "      <td>0.000000</td>\n",
       "      <td>0.000000</td>\n",
       "      <td>0.000000</td>\n",
       "    </tr>\n",
       "    <tr>\n",
       "      <th rowspan=\"12\" valign=\"top\">Mars</th>\n",
       "      <th rowspan=\"4\" valign=\"top\">55 Cancri e</th>\n",
       "      <th rowspan=\"2\" valign=\"top\">False</th>\n",
       "      <th>False</th>\n",
       "      <td>29.235294</td>\n",
       "      <td>1337.147059</td>\n",
       "      <td>73.602941</td>\n",
       "      <td>436.447761</td>\n",
       "      <td>238.528571</td>\n",
       "      <td>165.132353</td>\n",
       "    </tr>\n",
       "    <tr>\n",
       "      <th>True</th>\n",
       "      <td>21.952381</td>\n",
       "      <td>491.219512</td>\n",
       "      <td>121.952381</td>\n",
       "      <td>1086.384615</td>\n",
       "      <td>28.952381</td>\n",
       "      <td>38.404762</td>\n",
       "    </tr>\n",
       "    <tr>\n",
       "      <th rowspan=\"2\" valign=\"top\">True</th>\n",
       "      <th>False</th>\n",
       "      <td>31.000000</td>\n",
       "      <td>0.000000</td>\n",
       "      <td>0.000000</td>\n",
       "      <td>0.000000</td>\n",
       "      <td>0.000000</td>\n",
       "      <td>0.000000</td>\n",
       "    </tr>\n",
       "    <tr>\n",
       "      <th>True</th>\n",
       "      <td>27.959459</td>\n",
       "      <td>0.000000</td>\n",
       "      <td>0.000000</td>\n",
       "      <td>0.000000</td>\n",
       "      <td>0.000000</td>\n",
       "      <td>0.000000</td>\n",
       "    </tr>\n",
       "    <tr>\n",
       "      <th rowspan=\"4\" valign=\"top\">PSO J318.5-22</th>\n",
       "      <th rowspan=\"2\" valign=\"top\">False</th>\n",
       "      <th>False</th>\n",
       "      <td>35.166667</td>\n",
       "      <td>458.347826</td>\n",
       "      <td>195.458333</td>\n",
       "      <td>374.791667</td>\n",
       "      <td>226.434783</td>\n",
       "      <td>61.833333</td>\n",
       "    </tr>\n",
       "    <tr>\n",
       "      <th>True</th>\n",
       "      <td>35.166667</td>\n",
       "      <td>605.818182</td>\n",
       "      <td>40.916667</td>\n",
       "      <td>744.750000</td>\n",
       "      <td>47.916667</td>\n",
       "      <td>82.727273</td>\n",
       "    </tr>\n",
       "    <tr>\n",
       "      <th rowspan=\"2\" valign=\"top\">True</th>\n",
       "      <th>False</th>\n",
       "      <td>31.000000</td>\n",
       "      <td>0.000000</td>\n",
       "      <td>0.000000</td>\n",
       "      <td>0.000000</td>\n",
       "      <td>0.000000</td>\n",
       "      <td>0.000000</td>\n",
       "    </tr>\n",
       "    <tr>\n",
       "      <th>True</th>\n",
       "      <td>41.333333</td>\n",
       "      <td>0.000000</td>\n",
       "      <td>0.000000</td>\n",
       "      <td>0.000000</td>\n",
       "      <td>0.000000</td>\n",
       "      <td>0.000000</td>\n",
       "    </tr>\n",
       "    <tr>\n",
       "      <th rowspan=\"4\" valign=\"top\">TRAPPIST-1e</th>\n",
       "      <th rowspan=\"2\" valign=\"top\">False</th>\n",
       "      <th>False</th>\n",
       "      <td>32.079239</td>\n",
       "      <td>1129.161695</td>\n",
       "      <td>73.423197</td>\n",
       "      <td>382.509434</td>\n",
       "      <td>236.080569</td>\n",
       "      <td>92.358491</td>\n",
       "    </tr>\n",
       "    <tr>\n",
       "      <th>True</th>\n",
       "      <td>23.200000</td>\n",
       "      <td>319.818584</td>\n",
       "      <td>123.773333</td>\n",
       "      <td>767.740088</td>\n",
       "      <td>30.213974</td>\n",
       "      <td>20.995536</td>\n",
       "    </tr>\n",
       "    <tr>\n",
       "      <th rowspan=\"2\" valign=\"top\">True</th>\n",
       "      <th>False</th>\n",
       "      <td>31.905660</td>\n",
       "      <td>0.000000</td>\n",
       "      <td>0.000000</td>\n",
       "      <td>0.000000</td>\n",
       "      <td>0.000000</td>\n",
       "      <td>0.000000</td>\n",
       "    </tr>\n",
       "    <tr>\n",
       "      <th>True</th>\n",
       "      <td>28.070994</td>\n",
       "      <td>0.000000</td>\n",
       "      <td>0.000000</td>\n",
       "      <td>0.000000</td>\n",
       "      <td>0.000000</td>\n",
       "      <td>0.000000</td>\n",
       "    </tr>\n",
       "  </tbody>\n",
       "</table>\n",
       "</div>"
      ],
      "text/plain": [
       "                                                      Age  RoomService  \\\n",
       "HomePlanet Destination   CryoSleep Transported                           \n",
       "Earth      55 Cancri e   False     False        25.693380   284.230769   \n",
       "                                   True         22.781421    80.524862   \n",
       "                         True      False        22.088889     0.000000   \n",
       "                                   True         20.467532     0.000000   \n",
       "           PSO J318.5-22 False     False        30.649123   152.048246   \n",
       "                                   True         27.650943   134.355769   \n",
       "                         True      False        25.424779     0.000000   \n",
       "                                   True         23.187234     0.000000   \n",
       "           TRAPPIST-1e   False     False        28.459333   244.993293   \n",
       "                                   True         25.937031   108.468468   \n",
       "                         True      False        23.860000     0.000000   \n",
       "                                   True         22.673554     0.000000   \n",
       "Europa     55 Cancri e   False     False        37.459459   388.440154   \n",
       "                                   True         34.026316    93.175325   \n",
       "                         True      False        25.000000     0.000000   \n",
       "                                   True         32.753521     0.000000   \n",
       "           PSO J318.5-22 False     False        39.800000   626.250000   \n",
       "                                   True         36.800000    14.200000   \n",
       "                         True      True         34.222222     0.000000   \n",
       "           TRAPPIST-1e   False     False        36.434889   326.254950   \n",
       "                                   True         34.068493   132.938983   \n",
       "                         True      False        17.875000     0.000000   \n",
       "                                   True         33.374419     0.000000   \n",
       "Mars       55 Cancri e   False     False        29.235294  1337.147059   \n",
       "                                   True         21.952381   491.219512   \n",
       "                         True      False        31.000000     0.000000   \n",
       "                                   True         27.959459     0.000000   \n",
       "           PSO J318.5-22 False     False        35.166667   458.347826   \n",
       "                                   True         35.166667   605.818182   \n",
       "                         True      False        31.000000     0.000000   \n",
       "                                   True         41.333333     0.000000   \n",
       "           TRAPPIST-1e   False     False        32.079239  1129.161695   \n",
       "                                   True         23.200000   319.818584   \n",
       "                         True      False        31.905660     0.000000   \n",
       "                                   True         28.070994     0.000000   \n",
       "\n",
       "                                                  FoodCourt  ShoppingMall  \\\n",
       "HomePlanet Destination   CryoSleep Transported                              \n",
       "Earth      55 Cancri e   False     False         133.195652    133.583630   \n",
       "                                   True          240.901639    268.609890   \n",
       "                         True      False           0.000000      0.000000   \n",
       "                                   True            0.000000      0.000000   \n",
       "           PSO J318.5-22 False     False         167.122807    134.413043   \n",
       "                                   True          196.009524    327.858491   \n",
       "                         True      False           0.000000      0.000000   \n",
       "                                   True            0.000000      0.000000   \n",
       "           TRAPPIST-1e   False     False         138.236315    131.253989   \n",
       "                                   True          346.874622    333.358434   \n",
       "                         True      False           0.000000      0.000000   \n",
       "                                   True            0.000000      0.000000   \n",
       "Europa     55 Cancri e   False     False        2076.888462    174.710938   \n",
       "                                   True         5597.025806    422.703226   \n",
       "                         True      False           0.000000      0.000000   \n",
       "                                   True            0.000000      0.000000   \n",
       "           PSO J318.5-22 False     False         978.200000    393.400000   \n",
       "                                   True         5953.500000      4.200000   \n",
       "                         True      True            0.000000      0.000000   \n",
       "           TRAPPIST-1e   False     False        1562.293689    164.162562   \n",
       "                                   True         3284.760417    458.506897   \n",
       "                         True      False           0.000000      0.000000   \n",
       "                                   True            0.000000      0.000000   \n",
       "Mars       55 Cancri e   False     False          73.602941    436.447761   \n",
       "                                   True          121.952381   1086.384615   \n",
       "                         True      False           0.000000      0.000000   \n",
       "                                   True            0.000000      0.000000   \n",
       "           PSO J318.5-22 False     False         195.458333    374.791667   \n",
       "                                   True           40.916667    744.750000   \n",
       "                         True      False           0.000000      0.000000   \n",
       "                                   True            0.000000      0.000000   \n",
       "           TRAPPIST-1e   False     False          73.423197    382.509434   \n",
       "                                   True          123.773333    767.740088   \n",
       "                         True      False           0.000000      0.000000   \n",
       "                                   True            0.000000      0.000000   \n",
       "\n",
       "                                                        Spa       VRDeck  \n",
       "HomePlanet Destination   CryoSleep Transported                            \n",
       "Earth      55 Cancri e   False     False         247.618375   199.256228  \n",
       "                                   True           82.039106    73.713483  \n",
       "                         True      False           0.000000     0.000000  \n",
       "                                   True            0.000000     0.000000  \n",
       "           PSO J318.5-22 False     False         222.578947   314.836283  \n",
       "                                   True           81.524272    99.392523  \n",
       "                         True      False           0.000000     0.000000  \n",
       "                                   True            0.000000     0.000000  \n",
       "           TRAPPIST-1e   False     False         279.934536   253.878768  \n",
       "                                   True           73.248485    88.681335  \n",
       "                         True      False           0.000000     0.000000  \n",
       "                                   True            0.000000     0.000000  \n",
       "Europa     55 Cancri e   False     False        2487.615686  2681.730469  \n",
       "                                   True          441.425806   555.090909  \n",
       "                         True      False           0.000000     0.000000  \n",
       "                                   True            0.000000     0.000000  \n",
       "           PSO J318.5-22 False     False        4471.000000  3530.600000  \n",
       "                                   True           47.000000   545.200000  \n",
       "                         True      True            0.000000     0.000000  \n",
       "           TRAPPIST-1e   False     False        2108.850856  2123.218447  \n",
       "                                   True          351.068729   349.675862  \n",
       "                         True      False           0.000000     0.000000  \n",
       "                                   True            0.000000     0.000000  \n",
       "Mars       55 Cancri e   False     False         238.528571   165.132353  \n",
       "                                   True           28.952381    38.404762  \n",
       "                         True      False           0.000000     0.000000  \n",
       "                                   True            0.000000     0.000000  \n",
       "           PSO J318.5-22 False     False         226.434783    61.833333  \n",
       "                                   True           47.916667    82.727273  \n",
       "                         True      False           0.000000     0.000000  \n",
       "                                   True            0.000000     0.000000  \n",
       "           TRAPPIST-1e   False     False         236.080569    92.358491  \n",
       "                                   True           30.213974    20.995536  \n",
       "                         True      False           0.000000     0.000000  \n",
       "                                   True            0.000000     0.000000  "
      ]
     },
     "execution_count": 148,
     "metadata": {},
     "output_type": "execute_result"
    }
   ],
   "source": [
    "#averages of numerical variables by categorical variables\n",
    "train.groupby(['HomePlanet', 'Destination','CryoSleep','Transported']).mean()"
   ]
  },
  {
   "cell_type": "markdown",
   "id": "6cc8ab66",
   "metadata": {},
   "source": [
    "### Home Planet "
   ]
  },
  {
   "cell_type": "code",
   "execution_count": 149,
   "id": "2e8703e1",
   "metadata": {},
   "outputs": [
    {
     "data": {
      "text/plain": [
       "[Text(0.5, 1.0, 'Home Planet')]"
      ]
     },
     "execution_count": 149,
     "metadata": {},
     "output_type": "execute_result"
    },
    {
     "data": {
      "image/png": "[encoded data removed]",
      "text/plain": [
       "<Figure size 432x360 with 1 Axes>"
      ]
     },
     "metadata": {},
     "output_type": "display_data"
    }
   ],
   "source": [
    "sns.set(rc={\"figure.figsize\":(6, 5)}) \n",
    "sns.set_theme(style=\"white\", palette=\"Paired\")\n",
    "sns.countplot(data=train, x=\"HomePlanet\", hue=\"Transported\").set(title='Home Planet')"
   ]
  },
  {
   "cell_type": "markdown",
   "id": "40c2cbe1",
   "metadata": {},
   "source": [
    "### Cyro Sleep"
   ]
  },
  {
   "cell_type": "code",
   "execution_count": 150,
   "id": "801ff25b",
   "metadata": {},
   "outputs": [
    {
     "data": {
      "text/plain": [
       "[Text(0.5, 1.0, 'Cryo Sleep')]"
      ]
     },
     "execution_count": 150,
     "metadata": {},
     "output_type": "execute_result"
    },
    {
     "data": {
      "image/png": "[encoded data removed]",
      "text/plain": [
       "<Figure size 432x360 with 1 Axes>"
      ]
     },
     "metadata": {},
     "output_type": "display_data"
    }
   ],
   "source": [
    "sns.countplot(data=train, x=\"CryoSleep\", hue=\"Transported\").set(title='Cryo Sleep')"
   ]
  },
  {
   "cell_type": "markdown",
   "id": "f15a207c",
   "metadata": {},
   "source": [
    "### Destination"
   ]
  },
  {
   "cell_type": "code",
   "execution_count": 151,
   "id": "bdefe478",
   "metadata": {},
   "outputs": [
    {
     "data": {
      "text/plain": [
       "[Text(0.5, 1.0, 'Destination')]"
      ]
     },
     "execution_count": 151,
     "metadata": {},
     "output_type": "execute_result"
    },
    {
     "data": {
      "image/png": "[encoded data removed]",
      "text/plain": [
       "<Figure size 432x360 with 1 Axes>"
      ]
     },
     "metadata": {},
     "output_type": "display_data"
    }
   ],
   "source": [
    "sns.countplot(data=train, x=\"Destination\", hue=\"Transported\").set(title='Destination')"
   ]
  },
  {
   "cell_type": "markdown",
   "id": "e9ea5fd1",
   "metadata": {},
   "source": [
    "### VIP"
   ]
  },
  {
   "cell_type": "code",
   "execution_count": 152,
   "id": "41b8cef2",
   "metadata": {},
   "outputs": [
    {
     "data": {
      "text/plain": [
       "[Text(0.5, 1.0, 'VIP')]"
      ]
     },
     "execution_count": 152,
     "metadata": {},
     "output_type": "execute_result"
    },
    {
     "data": {
      "image/png": "[encoded data removed]",
      "text/plain": [
       "<Figure size 432x360 with 1 Axes>"
      ]
     },
     "metadata": {},
     "output_type": "display_data"
    }
   ],
   "source": [
    "sns.countplot(data=train, x=\"VIP\", hue=\"Transported\").set(title='VIP')"
   ]
  },
  {
   "cell_type": "markdown",
   "id": "35900bea",
   "metadata": {},
   "source": [
    "### Age"
   ]
  },
  {
   "cell_type": "code",
   "execution_count": 153,
   "id": "2f33a88a",
   "metadata": {},
   "outputs": [
    {
     "data": {
      "text/plain": [
       "[Text(0.5, 1.0, 'Age')]"
      ]
     },
     "execution_count": 153,
     "metadata": {},
     "output_type": "execute_result"
    },
    {
     "data": {
      "image/png": "[encoded data removed]",
      "text/plain": [
       "<Figure size 432x360 with 1 Axes>"
      ]
     },
     "metadata": {},
     "output_type": "display_data"
    }
   ],
   "source": [
    "sns.set_theme(style=\"white\", palette=\"dark\")\n",
    "sns.histplot(data = train,x = 'Age', hue = 'Transported', alpha = 0.5).set(title='Age')"
   ]
  },
  {
   "cell_type": "markdown",
   "id": "f56efd86",
   "metadata": {},
   "source": [
    "### On Demand Services"
   ]
  },
  {
   "cell_type": "code",
   "execution_count": 154,
   "id": "aba429ac",
   "metadata": {},
   "outputs": [
    {
     "data": {
      "image/png": "[encoded data removed]",
      "text/plain": [
       "<Figure size 1080x1440 with 5 Axes>"
      ]
     },
     "metadata": {},
     "output_type": "display_data"
    }
   ],
   "source": [
    "sns.set(rc={\"figure.figsize\":(15, 20)}) \n",
    "fig, axs = plt.subplots(nrows=5)\n",
    "fig.suptitle('On-Demand Services', fontsize=22)\n",
    "fig.tight_layout()\n",
    "\n",
    "for i, service in enumerate([\"RoomService\", \"FoodCourt\", \"ShoppingMall\", \"Spa\", \"VRDeck\"]):\n",
    "    services = sns.histplot(data = train,x = service, hue = 'Transported', alpha = 0.5, ax=axs[i], bins=100)\n",
    "    services.set_xlim(0, 2000)\n",
    "    plt.show"
   ]
  },
  {
   "cell_type": "markdown",
   "id": "968e7537",
   "metadata": {},
   "source": [
    "### Check for Null Values"
   ]
  },
  {
   "cell_type": "code",
   "execution_count": 155,
   "id": "c01a9536",
   "metadata": {},
   "outputs": [
    {
     "data": {
      "text/plain": [
       "PassengerId     False\n",
       "HomePlanet       True\n",
       "CryoSleep        True\n",
       "Cabin            True\n",
       "Destination      True\n",
       "Age              True\n",
       "VIP              True\n",
       "RoomService      True\n",
       "FoodCourt        True\n",
       "ShoppingMall     True\n",
       "Spa              True\n",
       "VRDeck           True\n",
       "Name             True\n",
       "Transported     False\n",
       "dtype: bool"
      ]
     },
     "execution_count": 155,
     "metadata": {},
     "output_type": "execute_result"
    }
   ],
   "source": [
    "# check for null values in each column\n",
    "train.isnull().any()"
   ]
  },
  {
   "cell_type": "code",
   "execution_count": 156,
   "id": "0e1dc6d2",
   "metadata": {},
   "outputs": [
    {
     "data": {
      "text/plain": [
       "PassengerId       0\n",
       "HomePlanet      201\n",
       "CryoSleep       217\n",
       "Cabin           199\n",
       "Destination     182\n",
       "Age             179\n",
       "VIP             203\n",
       "RoomService     181\n",
       "FoodCourt       183\n",
       "ShoppingMall    208\n",
       "Spa             183\n",
       "VRDeck          188\n",
       "Name            200\n",
       "Transported       0\n",
       "dtype: int64"
      ]
     },
     "execution_count": 156,
     "metadata": {},
     "output_type": "execute_result"
    }
   ],
   "source": [
    "#number of null values in each column\n",
    "train.isnull().sum()"
   ]
  },
  {
   "cell_type": "markdown",
   "id": "88125df3",
   "metadata": {},
   "source": [
    "### Correlation"
   ]
  },
  {
   "cell_type": "code",
   "execution_count": 157,
   "id": "2a8fe9ce",
   "metadata": {},
   "outputs": [
    {
     "data": {
      "text/html": [
       "<div>\n",
       "<style scoped>\n",
       "    .dataframe tbody tr th:only-of-type {\n",
       "        vertical-align: middle;\n",
       "    }\n",
       "\n",
       "    .dataframe tbody tr th {\n",
       "        vertical-align: top;\n",
       "    }\n",
       "\n",
       "    .dataframe thead th {\n",
       "        text-align: right;\n",
       "    }\n",
       "</style>\n",
       "<table border=\"1\" class=\"dataframe\">\n",
       "  <thead>\n",
       "    <tr style=\"text-align: right;\">\n",
       "      <th></th>\n",
       "      <th>Age</th>\n",
       "      <th>RoomService</th>\n",
       "      <th>FoodCourt</th>\n",
       "      <th>ShoppingMall</th>\n",
       "      <th>Spa</th>\n",
       "      <th>VRDeck</th>\n",
       "      <th>Transported</th>\n",
       "    </tr>\n",
       "  </thead>\n",
       "  <tbody>\n",
       "    <tr>\n",
       "      <th>Age</th>\n",
       "      <td>1.000000</td>\n",
       "      <td>0.068723</td>\n",
       "      <td>0.130421</td>\n",
       "      <td>0.033133</td>\n",
       "      <td>0.123970</td>\n",
       "      <td>0.101007</td>\n",
       "      <td>-0.075026</td>\n",
       "    </tr>\n",
       "    <tr>\n",
       "      <th>RoomService</th>\n",
       "      <td>0.068723</td>\n",
       "      <td>1.000000</td>\n",
       "      <td>-0.015889</td>\n",
       "      <td>0.054480</td>\n",
       "      <td>0.010080</td>\n",
       "      <td>-0.019581</td>\n",
       "      <td>-0.244611</td>\n",
       "    </tr>\n",
       "    <tr>\n",
       "      <th>FoodCourt</th>\n",
       "      <td>0.130421</td>\n",
       "      <td>-0.015889</td>\n",
       "      <td>1.000000</td>\n",
       "      <td>-0.014228</td>\n",
       "      <td>0.221891</td>\n",
       "      <td>0.227995</td>\n",
       "      <td>0.046566</td>\n",
       "    </tr>\n",
       "    <tr>\n",
       "      <th>ShoppingMall</th>\n",
       "      <td>0.033133</td>\n",
       "      <td>0.054480</td>\n",
       "      <td>-0.014228</td>\n",
       "      <td>1.000000</td>\n",
       "      <td>0.013879</td>\n",
       "      <td>-0.007322</td>\n",
       "      <td>0.010141</td>\n",
       "    </tr>\n",
       "    <tr>\n",
       "      <th>Spa</th>\n",
       "      <td>0.123970</td>\n",
       "      <td>0.010080</td>\n",
       "      <td>0.221891</td>\n",
       "      <td>0.013879</td>\n",
       "      <td>1.000000</td>\n",
       "      <td>0.153821</td>\n",
       "      <td>-0.221131</td>\n",
       "    </tr>\n",
       "    <tr>\n",
       "      <th>VRDeck</th>\n",
       "      <td>0.101007</td>\n",
       "      <td>-0.019581</td>\n",
       "      <td>0.227995</td>\n",
       "      <td>-0.007322</td>\n",
       "      <td>0.153821</td>\n",
       "      <td>1.000000</td>\n",
       "      <td>-0.207075</td>\n",
       "    </tr>\n",
       "    <tr>\n",
       "      <th>Transported</th>\n",
       "      <td>-0.075026</td>\n",
       "      <td>-0.244611</td>\n",
       "      <td>0.046566</td>\n",
       "      <td>0.010141</td>\n",
       "      <td>-0.221131</td>\n",
       "      <td>-0.207075</td>\n",
       "      <td>1.000000</td>\n",
       "    </tr>\n",
       "  </tbody>\n",
       "</table>\n",
       "</div>"
      ],
      "text/plain": [
       "                   Age  RoomService  FoodCourt  ShoppingMall       Spa  \\\n",
       "Age           1.000000     0.068723   0.130421      0.033133  0.123970   \n",
       "RoomService   0.068723     1.000000  -0.015889      0.054480  0.010080   \n",
       "FoodCourt     0.130421    -0.015889   1.000000     -0.014228  0.221891   \n",
       "ShoppingMall  0.033133     0.054480  -0.014228      1.000000  0.013879   \n",
       "Spa           0.123970     0.010080   0.221891      0.013879  1.000000   \n",
       "VRDeck        0.101007    -0.019581   0.227995     -0.007322  0.153821   \n",
       "Transported  -0.075026    -0.244611   0.046566      0.010141 -0.221131   \n",
       "\n",
       "                VRDeck  Transported  \n",
       "Age           0.101007    -0.075026  \n",
       "RoomService  -0.019581    -0.244611  \n",
       "FoodCourt     0.227995     0.046566  \n",
       "ShoppingMall -0.007322     0.010141  \n",
       "Spa           0.153821    -0.221131  \n",
       "VRDeck        1.000000    -0.207075  \n",
       "Transported  -0.207075     1.000000  "
      ]
     },
     "execution_count": 157,
     "metadata": {},
     "output_type": "execute_result"
    }
   ],
   "source": [
    "train_corr = train.copy()  \n",
    "train_corr['Transported'] = train['Transported'].astype(int) \n",
    "train_corr.corr()"
   ]
  },
  {
   "cell_type": "markdown",
   "id": "4912d0a1",
   "metadata": {},
   "source": [
    "# Data Transformation"
   ]
  },
  {
   "cell_type": "markdown",
   "id": "745ea400",
   "metadata": {},
   "source": [
    "### Add features"
   ]
  },
  {
   "cell_type": "code",
   "execution_count": 158,
   "id": "93940236",
   "metadata": {},
   "outputs": [],
   "source": [
    "def AddFeatures(X: pd.DataFrame):\n",
    "    \n",
    "    #split name and cabin\n",
    "    df = pd.concat((X[x_train.columns].drop(['Name', 'Cabin'],axis=1),\n",
    "                X.Name.str.split(' ', expand= True).add_prefix('Name'),\n",
    "                X.Cabin.str.split('/', expand= True).add_prefix('Cabin')), axis=1)\n",
    "    \n",
    "    #fill na in amenities\n",
    "    df[['RoomService', 'FoodCourt','ShoppingMall','Spa','VRDeck']]=\\\n",
    "    df[['RoomService', 'FoodCourt','ShoppingMall','Spa','VRDeck']].fillna(0.0)\n",
    "    \n",
    "    #create total spend\n",
    "    df['TotalSpend'] = df['RoomService'] + df['FoodCourt'] + df['ShoppingMall'] + \\\n",
    "    df['Spa'] + df['VRDeck'];\n",
    "    \n",
    "    df['VIP'] = df['VIP']*1.0;\n",
    "    df['VIP'] = df['VIP'].astype(np.float16)\n",
    "    \n",
    "    return df;"
   ]
  },
  {
   "cell_type": "code",
   "execution_count": 159,
   "id": "6f457e5f",
   "metadata": {},
   "outputs": [],
   "source": [
    "def TrtNullAgeCrSlp(df:pd.DataFrame):\n",
    "    \n",
    "    # filling nulls in cryosleep based on spending\n",
    "    df['CryoSleep'] = np.float16(df['CryoSleep']*1.0);\n",
    "    df.loc[(df.CryoSleep.isna()==True) & (df.TotalSpend == 0.0), ['CryoSleep']] = 1.0;\n",
    "\n",
    "    df.loc[(df.CryoSleep.isna()==True) & (df['TotalSpend'] > 0.0), ['CryoSleep']] = 0.0;\n",
    "    df['CryoSleep'] = df['CryoSleep'].astype(np.int8);\n",
    "    \n",
    "    # filling median age for nulls\n",
    "    df['Age'] = df['Age'].fillna(df.Age.median());\n",
    "    \n",
    "    # creating column for child\n",
    "    df['Is_Child'] = np.where(df.Age <= 12, 1,0);\n",
    "    df['Is_Child'] = df['Is_Child'].astype(np.int8);\n",
    "    \n",
    "    df['Age'] = df['Age'].astype(np.int8);\n",
    "    \n",
    "    return df;"
   ]
  },
  {
   "cell_type": "code",
   "execution_count": 160,
   "id": "d94712ee",
   "metadata": {},
   "outputs": [],
   "source": [
    "def CreateJourney(df: pd.DataFrame):\n",
    "    \n",
    "    # fill nulls in home planet based on last name\n",
    "    df = df.merge(df[['Name1', 'HomePlanet']].drop_duplicates().dropna(), \n",
    "                 how= 'left',left_on= 'Name1', right_on= 'Name1', suffixes= ('', '_'))\n",
    "    df['HomePlanet'] = df['HomePlanet'].fillna(df.HomePlanet_)\n",
    "    df['HomePlanet'] = df['HomePlanet'].fillna(df[['HomePlanet']].\\\n",
    "                                               apply(lambda x: x.mode()).values[0][0])\n",
    "\n",
    "    # fill nulls in destination based on last name \n",
    "    _ = df[['Name1', 'Destination']].groupby('Name1')['Destination'].\\\n",
    "    value_counts(ascending= False);\n",
    "    _.name = 'Nb_Destination';\n",
    "    _ = _.reset_index().groupby(['Name1']).head(1);\n",
    "\n",
    "    df = df.merge(_, how = 'left', left_on= 'Name1', right_on= 'Name1', suffixes= ('', '_'));\n",
    "    df['Destination'] = df['Destination'].fillna(df['Destination_']);\n",
    "    df['Destination'] = df['Destination'].fillna(df[['Destination']].\\\n",
    "                                                 apply(lambda x: x.mode()).values[0][0]);\n",
    "    del _;\n",
    "\n",
    "    # journey column from home planet and destination\n",
    "    df['Journey'] = df['HomePlanet'] + '_' + df['Destination'];\n",
    "    df = df.drop(['HomePlanet','Destination','HomePlanet_','Destination_','Nb_Destination'], \n",
    "                 axis=1,errors = 'ignore');\n",
    "\n",
    "    return df;"
   ]
  },
  {
   "cell_type": "code",
   "execution_count": 161,
   "id": "99a94add",
   "metadata": {},
   "outputs": [],
   "source": [
    "def TrtNullVIPCabin(df: pd.DataFrame):\n",
    "\n",
    "    # fill nulls by assuming members of the same family have the same VIP ID\n",
    "    df = df.merge(df[['VIP', 'Name1']].groupby('Name1')['VIP'].max(), \n",
    "                how = 'left', left_on= 'Name1', right_on= 'Name1', suffixes= ('','_'));\n",
    "    df['VIP'] = df['VIP'].fillna(df.VIP_);\n",
    "    df['VIP'] = df['VIP'].fillna(0.0);\n",
    "    df['VIP'] = df['VIP'].astype(np.int8);\n",
    " \n",
    "    # fill nulls by assuming members of the same family have the same cabin ID\n",
    "    _ = df[['Cabin0', 'Name1']].groupby('Name1')['Cabin0'].value_counts();\n",
    "    _.name = 'Nb_Records';\n",
    "    df = df.merge(_.reset_index().groupby('Name1').head(1).drop('Nb_Records', axis=1), \n",
    "                how= 'left', left_on= 'Name1', right_on= 'Name1', suffixes= ('','_'));\n",
    "    df['Cabin0'] = df['Cabin0'].fillna(df.Cabin0_);\n",
    "    del _;\n",
    "\n",
    "    _ = df[['Cabin2', 'Name1']].groupby('Name1')['Cabin2'].value_counts();\n",
    "    _.name = 'Nb_Records';\n",
    "    df = df.merge(_.reset_index().groupby('Name1').head(1).drop('Nb_Records', axis=1), \n",
    "                how= 'left', left_on= 'Name1', right_on= 'Name1', suffixes= ('','_'));\n",
    "    df['Cabin2'] = df['Cabin2'].fillna(df.Cabin2_);\n",
    "\n",
    "    df = df.drop(['Cabin0_', 'Cabin2_'], axis=1, errors= 'ignore');\n",
    "    del _;\n",
    "\n",
    "    # remaining nulls based on VIP status\n",
    "    df = df.merge(df.groupby(['VIP']).agg({'Cabin0': lambda df: df.mode(), 'Cabin2': lambda y: y.mode()}),\n",
    "                how= 'left', left_on= 'VIP', right_index= True, suffixes= ('', '_'));\n",
    "    df['Cabin0'] = df['Cabin0'].fillna(df.Cabin0_);\n",
    "    df['Cabin2'] = df['Cabin2'].fillna(df.Cabin2_);\n",
    "    df = df.drop(['Cabin0_', 'Cabin2_', 'VIP_'], axis=1, errors= 'ignore');\n",
    "    \n",
    "    df = df.drop(['Cabin1', 'Name0', 'Name1'], axis=1, errors= 'ignore');\n",
    "    \n",
    "    # change to float 16  \n",
    "    df[['RoomService','FoodCourt','ShoppingMall','Spa','VRDeck','TotalSpend']] = \\\n",
    "    df[['RoomService','FoodCourt','ShoppingMall','Spa','VRDeck','TotalSpend']].astype(np.float16);  \n",
    "    \n",
    "    return df;"
   ]
  },
  {
   "cell_type": "code",
   "execution_count": 162,
   "id": "4376a44d",
   "metadata": {},
   "outputs": [
    {
     "name": "stdout",
     "output_type": "stream",
     "text": [
      "[Pipeline] ....... (step 1 of 5) Processing AddFeatures, total=   0.1s\n",
      "[Pipeline] ... (step 2 of 5) Processing TrtNullAgeCrSlp, total=   0.0s\n",
      "[Pipeline] ..... (step 3 of 5) Processing CreateJourney, total=   0.1s\n",
      "[Pipeline] ... (step 4 of 5) Processing TrtNullVIPCabin, total=   0.1s\n",
      "[Pipeline] ......... (step 5 of 5) Processing LblEncode, total=   0.0s\n"
     ]
    }
   ],
   "source": [
    "# training data\n",
    "Ytrain = np.where(train[['Transported']] == True, 1,0).ravel();\n",
    "Xtrain = train.drop('Transported', axis=1);\n",
    "\n",
    "# data transformer pipeline\n",
    "Data_Xformer=\\\n",
    "Pipeline(steps= \n",
    "         [('AddFeatures', FunctionTransformer(AddFeatures)),\n",
    "          ('TrtNullAgeCrSlp', FunctionTransformer(TrtNullAgeCrSlp)),\n",
    "          ('CreateJourney', FunctionTransformer(CreateJourney)),\n",
    "          ('TrtNullVIPCabin', FunctionTransformer(TrtNullVIPCabin)),\n",
    "          ('LblEncode', DataFrameMapper(input_df= True, df_out= True, drop_cols= ['PassengerId'],default=None,\n",
    "                                       features=gen_features(columns= [['Journey'], ['Cabin0'], ['Cabin2']],\n",
    "                                                             classes= [LabelEncoder])\n",
    "                                       ))\n",
    "         ], verbose= True)\n",
    "\n",
    "# implement pipeline on training and test set\n",
    "Xtrain = Data_Xformer.fit_transform(x_train, Ytrain)\n",
    "Xtest = Data_Xformer.transform(test)"
   ]
  },
  {
   "cell_type": "markdown",
   "id": "f7639c41",
   "metadata": {},
   "source": [
    "### Correlation"
   ]
  },
  {
   "cell_type": "code",
   "execution_count": 163,
   "id": "1007e873",
   "metadata": {},
   "outputs": [
    {
     "data": {
      "image/png": "[encoded data removed]",
      "text/plain": [
       "<Figure size 1152x720 with 2 Axes>"
      ]
     },
     "metadata": {},
     "output_type": "display_data"
    }
   ],
   "source": [
    "fig, ax= plt.subplots(1,1, figsize= (16,10))\n",
    "sns.heatmap(Xtrain.corr(), cmap = 'icefire', annot= True, fmt= '.1%', \n",
    "            linewidth= 1.0, linecolor= 'black', ax=ax, center= True)\n",
    "ax.set_title(\"Correlation heatmap after the pipeline implementation\\n\", fontsize= 12, color= 'tab:blue')\n",
    "plt.yticks(rotation= 45, fontsize= 8)\n",
    "plt.xticks(rotation= 45, fontsize= 8)\n",
    "plt.show()"
   ]
  },
  {
   "cell_type": "markdown",
   "id": "abe3afe4",
   "metadata": {},
   "source": [
    "# Data Modelling "
   ]
  },
  {
   "cell_type": "markdown",
   "id": "a1c8186a",
   "metadata": {},
   "source": [
    "### XG Boost "
   ]
  },
  {
   "cell_type": "code",
   "execution_count": 164,
   "id": "9b222844",
   "metadata": {},
   "outputs": [],
   "source": [
    "#create classifier\n",
    "xgboost_model = XGBClassifier(use_label_encoder = False)"
   ]
  },
  {
   "cell_type": "code",
   "execution_count": 165,
   "id": "426be496",
   "metadata": {},
   "outputs": [
    {
     "name": "stdout",
     "output_type": "stream",
     "text": [
      "Accuracy - : 0.7997300371678373\n",
      "Precision - : 0.798503190681151\n",
      "Recall - : 0.8083701660345026\n",
      "F1 - : 0.8026119095058484\n",
      "roc_auc_score - : 0.8895396790222033\n"
     ]
    }
   ],
   "source": [
    "#evaluate using cross validation\n",
    "cv_results_xg = cross_validate(xgboost_model, Xtrain, Ytrain, cv=10, scoring=[\"accuracy\", \"precision\", \"recall\", \"f1\", \"roc_auc\"])\n",
    "print (f'Accuracy - : {cv_results_xg[\"test_accuracy\"].mean()}')\n",
    "print (f'Precision - : {cv_results_xg[\"test_precision\"].mean()}')\n",
    "print (f'Recall - : {cv_results_xg[\"test_recall\"].mean()}')\n",
    "print (f'F1 - : {cv_results_xg[\"test_f1\"].mean()}')\n",
    "print (f'roc_auc_score - : {cv_results_xg[\"test_roc_auc\"].mean()}')"
   ]
  },
  {
   "cell_type": "code",
   "execution_count": 166,
   "id": "f56dd247",
   "metadata": {},
   "outputs": [],
   "source": [
    "#set parameters\n",
    "xgboost_params = {\"learning_rate\": [0.1, 0.01],\n",
    "                  \"max_depth\": [5, 8],\n",
    "                  \"n_estimators\": [100, 500, 1000],\n",
    "                  \"colsample_bytree\": [0.7, 1]}"
   ]
  },
  {
   "cell_type": "code",
   "execution_count": 167,
   "id": "56a18daf",
   "metadata": {},
   "outputs": [
    {
     "name": "stdout",
     "output_type": "stream",
     "text": [
      "Fitting 10 folds for each of 24 candidates, totalling 240 fits\n"
     ]
    }
   ],
   "source": [
    "#tune model \n",
    "xgboost_best_grid = GridSearchCV(xgboost_model, xgboost_params, cv=10, n_jobs=-1, verbose=True).fit(Xtrain, Ytrain)"
   ]
  },
  {
   "cell_type": "code",
   "execution_count": 168,
   "id": "c592b139",
   "metadata": {},
   "outputs": [
    {
     "data": {
      "text/plain": [
       "{'colsample_bytree': 0.7,\n",
       " 'learning_rate': 0.1,\n",
       " 'max_depth': 5,\n",
       " 'n_estimators': 100}"
      ]
     },
     "execution_count": 168,
     "metadata": {},
     "output_type": "execute_result"
    }
   ],
   "source": [
    "#best parameters \n",
    "xgboost_best_grid.best_params_"
   ]
  },
  {
   "cell_type": "code",
   "execution_count": 169,
   "id": "82927946",
   "metadata": {},
   "outputs": [],
   "source": [
    "#create classifier with best parameters\n",
    "xgboost_final = xgboost_model.set_params(**xgboost_best_grid.best_params_).fit(Xtrain, Ytrain)"
   ]
  },
  {
   "cell_type": "code",
   "execution_count": 170,
   "id": "6e2fdee1",
   "metadata": {},
   "outputs": [
    {
     "name": "stdout",
     "output_type": "stream",
     "text": [
      "Accuracy - : 0.8078978347420076\n",
      "Precision - : 0.7932154093616719\n",
      "Recall - : 0.8401147299457697\n",
      "F1 - : 0.8151401123656594\n",
      "roc_auc_score - : 0.8915896215684652\n"
     ]
    }
   ],
   "source": [
    "cv_results_xg_final = cross_validate(xgboost_final, Xtrain, Ytrain, cv=10, scoring=[\"accuracy\", \"precision\", \"recall\", \"f1\", \"roc_auc\"])\n",
    "print (f'Accuracy - : {cv_results_xg_final[\"test_accuracy\"].mean()}')\n",
    "print (f'Precision - : {cv_results_xg_final[\"test_precision\"].mean()}')\n",
    "print (f'Recall - : {cv_results_xg_final[\"test_recall\"].mean()}')\n",
    "print (f'F1 - : {cv_results_xg_final[\"test_f1\"].mean()}')\n",
    "print (f'roc_auc_score - : {cv_results_xg_final[\"test_roc_auc\"].mean()}')"
   ]
  },
  {
   "cell_type": "markdown",
   "id": "973b77c3",
   "metadata": {},
   "source": [
    "### LightGBM"
   ]
  },
  {
   "cell_type": "code",
   "execution_count": 171,
   "id": "aa2d718e",
   "metadata": {},
   "outputs": [],
   "source": [
    "#create classifier \n",
    "lgbm_model = LGBMClassifier()"
   ]
  },
  {
   "cell_type": "code",
   "execution_count": 172,
   "id": "85801326",
   "metadata": {},
   "outputs": [
    {
     "name": "stdout",
     "output_type": "stream",
     "text": [
      "Accuracy - : 0.8012218839312834\n",
      "Precision - : 0.7927352376661576\n",
      "Recall - : 0.821379778212655\n",
      "F1 - : 0.8064612217125153\n",
      "roc_auc_score - : 0.8899856779283721\n"
     ]
    }
   ],
   "source": [
    "#evaluate using cross validation\n",
    "cv_results = cross_validate(lgbm_model, Xtrain, Ytrain, cv=5, scoring=[\"accuracy\", \"precision\", \"recall\", \"f1\", \"roc_auc\"])\n",
    "print (f'Accuracy - : {cv_results_l[\"test_accuracy\"].mean()}')\n",
    "print (f'Precision - : {cv_results_l[\"test_precision\"].mean()}')\n",
    "print (f'Recall - : {cv_results_l[\"test_recall\"].mean()}')\n",
    "print (f'F1 - : {cv_results_l[\"test_f1\"].mean()}')\n",
    "print (f'roc_auc_score - : {cv_results_l[\"test_roc_auc\"].mean()}')"
   ]
  },
  {
   "cell_type": "code",
   "execution_count": 173,
   "id": "44926176",
   "metadata": {},
   "outputs": [],
   "source": [
    "#set parameters\n",
    "lgbm_params = {\"learning_rate\": [0.01, 0.1],\n",
    "               \"n_estimators\": [100, 300, 500, 1000],\n",
    "               \"colsample_bytree\": [0.5, 0.7, 1]}"
   ]
  },
  {
   "cell_type": "code",
   "execution_count": 174,
   "id": "1dabf1ee",
   "metadata": {},
   "outputs": [
    {
     "name": "stdout",
     "output_type": "stream",
     "text": [
      "Fitting 10 folds for each of 24 candidates, totalling 240 fits\n"
     ]
    }
   ],
   "source": [
    "#tune parameters \n",
    "lgbm_best_grid = GridSearchCV(lgbm_model, lgbm_params, cv=10, n_jobs=-1, verbose=True).fit(Xtrain, Ytrain)"
   ]
  },
  {
   "cell_type": "code",
   "execution_count": 175,
   "id": "512efe43",
   "metadata": {},
   "outputs": [
    {
     "data": {
      "text/plain": [
       "{'colsample_bytree': 1, 'learning_rate': 0.1, 'n_estimators': 100}"
      ]
     },
     "execution_count": 175,
     "metadata": {},
     "output_type": "execute_result"
    }
   ],
   "source": [
    "#best parameters\n",
    "lgbm_best_grid.best_params_"
   ]
  },
  {
   "cell_type": "code",
   "execution_count": 176,
   "id": "47022413",
   "metadata": {},
   "outputs": [],
   "source": [
    "#final model with best parameters\n",
    "lgbm_final = lgbm_model.set_params(**lgbm_best_grid.best_params_).fit(Xtrain, Ytrain)"
   ]
  },
  {
   "cell_type": "code",
   "execution_count": 177,
   "id": "2c5e0410",
   "metadata": {},
   "outputs": [
    {
     "name": "stdout",
     "output_type": "stream",
     "text": [
      "Accuracy - : 0.8076671560652354\n",
      "Precision - : 0.799565110115282\n",
      "Recall - : 0.8282431062767103\n",
      "F1 - : 0.812672777484592\n",
      "roc_auc_score - : 0.8929999653606602\n"
     ]
    }
   ],
   "source": [
    "#cross validate final model \n",
    "cv_results_flgbm = cross_validate(lgbm_final, Xtrain, Ytrain, cv=10, scoring=[\"accuracy\", \"precision\", \"recall\", \"f1\", \"roc_auc\"])\n",
    "\n",
    "print (f'Accuracy - : {cv_results_flgbm[\"test_accuracy\"].mean()}')\n",
    "print (f'Precision - : {cv_results_flgbm[\"test_precision\"].mean()}')\n",
    "print (f'Recall - : {cv_results_flgbm[\"test_recall\"].mean()}')\n",
    "print (f'F1 - : {cv_results_flgbm[\"test_f1\"].mean()}')\n",
    "print (f'roc_auc_score - : {cv_results_flgbm[\"test_roc_auc\"].mean()}')"
   ]
  },
  {
   "cell_type": "markdown",
   "id": "86178fef",
   "metadata": {},
   "source": [
    "### Logistic Regression"
   ]
  },
  {
   "cell_type": "code",
   "execution_count": 178,
   "id": "075049bb",
   "metadata": {},
   "outputs": [],
   "source": [
    "#create model \n",
    "log_model = LogisticRegression(max_iter = 2000)"
   ]
  },
  {
   "cell_type": "code",
   "execution_count": 179,
   "id": "13f8bd0f",
   "metadata": {},
   "outputs": [],
   "source": [
    "#evaluate using cross validation\n",
    "cv_results_lg = cross_validate(log_model,\n",
    "                            Xtrain, Ytrain,\n",
    "                            cv=10,\n",
    "                            scoring=[\"accuracy\", \"precision\", \"recall\", \"f1\", \"roc_auc\"])"
   ]
  },
  {
   "cell_type": "code",
   "execution_count": 180,
   "id": "677cf3da",
   "metadata": {},
   "outputs": [
    {
     "name": "stdout",
     "output_type": "stream",
     "text": [
      "Accuracy - : 0.7897217041651786\n",
      "Precision - : 0.7815556821586326\n",
      "Recall - : 0.8115701702140999\n",
      "F1 - : 0.7952501866671586\n",
      "roc_auc_score - : 0.8685221619126773\n"
     ]
    }
   ],
   "source": [
    "#print accuracy measures\n",
    "print (f'Accuracy - : {cv_results_lg[\"test_accuracy\"].mean()}')\n",
    "print (f'Precision - : {cv_results_lg[\"test_precision\"].mean()}')\n",
    "print (f'Recall - : {cv_results_lg[\"test_recall\"].mean()}')\n",
    "print (f'F1 - : {cv_results_lg[\"test_f1\"].mean()}')\n",
    "print (f'roc_auc_score - : {cv_results_lg[\"test_roc_auc\"].mean()}')"
   ]
  },
  {
   "cell_type": "code",
   "execution_count": 184,
   "id": "4bf22fa5",
   "metadata": {},
   "outputs": [],
   "source": [
    "param_grid =  {'penalty' : ['l1', 'l2', 'elasticnet', 'none'],\n",
    "    'C' : np.logspace(-4, 4, 20),\n",
    "    'solver' : ['lbfgs','newton-cg','liblinear','sag','saga'],\n",
    "    'max_iter' : [100, 1000,2500, 5000]\n",
    "    }"
   ]
  },
  {
   "cell_type": "code",
   "execution_count": 185,
   "id": "9cd4635d",
   "metadata": {},
   "outputs": [],
   "source": [
    "#set parameters \n",
    "best_lg_params = {'C': 0.004832930238571752, 'max_iter': 1000, 'penalty': 'l2', 'solver': 'sag'}"
   ]
  },
  {
   "cell_type": "code",
   "execution_count": 186,
   "id": "5865578e",
   "metadata": {},
   "outputs": [],
   "source": [
    "#tune parameters\n",
    "log_best_grid = GridSearchCV(log_model, param_grid, cv=3, n_jobs=-1, verbose=False).fit(Xtrain, Ytrain)"
   ]
  },
  {
   "cell_type": "code",
   "execution_count": 187,
   "id": "e7022dc9",
   "metadata": {},
   "outputs": [
    {
     "data": {
      "text/plain": [
       "{'C': 0.012742749857031334,\n",
       " 'max_iter': 2500,\n",
       " 'penalty': 'l2',\n",
       " 'solver': 'lbfgs'}"
      ]
     },
     "execution_count": 187,
     "metadata": {},
     "output_type": "execute_result"
    }
   ],
   "source": [
    "#best parameters\n",
    "log_best_grid.best_params_"
   ]
  },
  {
   "cell_type": "code",
   "execution_count": 188,
   "id": "27247aab",
   "metadata": {},
   "outputs": [],
   "source": [
    "#final model \n",
    "log_model_final = log_model.set_params(**log_best_grid.best_params_).fit(Xtrain,Ytrain)"
   ]
  },
  {
   "cell_type": "code",
   "execution_count": 189,
   "id": "c615e96f",
   "metadata": {},
   "outputs": [],
   "source": [
    "#evaluate using cross validation\n",
    "cv_results = cross_validate(log_model_final,\n",
    "                            Xtrain, Ytrain,\n",
    "                            cv=10,\n",
    "                            scoring=[\"accuracy\", \"precision\", \"recall\", \"f1\", \"roc_auc\"])"
   ]
  },
  {
   "cell_type": "code",
   "execution_count": 190,
   "id": "1b14ba71",
   "metadata": {},
   "outputs": [
    {
     "name": "stdout",
     "output_type": "stream",
     "text": [
      "Accuracy - : 0.789950795603349\n",
      "Precision - : 0.7678623896558092\n",
      "Recall - : 0.8389742223336782\n",
      "F1 - : 0.8009098219158629\n",
      "roc_auc_score - : 0.8709714965974111\n"
     ]
    }
   ],
   "source": [
    "#print accuracy measures\n",
    "print (f'Accuracy - : {cv_results[\"test_accuracy\"].mean()}')\n",
    "print (f'Precision - : {cv_results[\"test_precision\"].mean()}')\n",
    "print (f'Recall - : {cv_results[\"test_recall\"].mean()}')\n",
    "print (f'F1 - : {cv_results[\"test_f1\"].mean()}')\n",
    "print (f'roc_auc_score - : {cv_results[\"test_roc_auc\"].mean()}')"
   ]
  },
  {
   "cell_type": "markdown",
   "id": "d2935d52",
   "metadata": {},
   "source": [
    "# Prediction"
   ]
  },
  {
   "cell_type": "code",
   "execution_count": 191,
   "id": "1753aa50",
   "metadata": {},
   "outputs": [
    {
     "data": {
      "text/plain": [
       "array([1, 0, 1, ..., 1, 1, 1])"
      ]
     },
     "execution_count": 191,
     "metadata": {},
     "output_type": "execute_result"
    }
   ],
   "source": [
    "pred = lgbm_final.predict(Xtest)\n",
    "pred"
   ]
  },
  {
   "cell_type": "code",
   "execution_count": 192,
   "id": "8f113491",
   "metadata": {},
   "outputs": [],
   "source": [
    "final = pd.concat([test[\"PassengerId\"], pd.DataFrame(pred)], axis=1)"
   ]
  },
  {
   "cell_type": "code",
   "execution_count": 193,
   "id": "512bceb3",
   "metadata": {},
   "outputs": [
    {
     "data": {
      "text/html": [
       "<div>\n",
       "<style scoped>\n",
       "    .dataframe tbody tr th:only-of-type {\n",
       "        vertical-align: middle;\n",
       "    }\n",
       "\n",
       "    .dataframe tbody tr th {\n",
       "        vertical-align: top;\n",
       "    }\n",
       "\n",
       "    .dataframe thead th {\n",
       "        text-align: right;\n",
       "    }\n",
       "</style>\n",
       "<table border=\"1\" class=\"dataframe\">\n",
       "  <thead>\n",
       "    <tr style=\"text-align: right;\">\n",
       "      <th></th>\n",
       "      <th>PassengerId</th>\n",
       "      <th>Transported</th>\n",
       "    </tr>\n",
       "  </thead>\n",
       "  <tbody>\n",
       "    <tr>\n",
       "      <th>0</th>\n",
       "      <td>0013_01</td>\n",
       "      <td>True</td>\n",
       "    </tr>\n",
       "    <tr>\n",
       "      <th>1</th>\n",
       "      <td>0018_01</td>\n",
       "      <td>False</td>\n",
       "    </tr>\n",
       "    <tr>\n",
       "      <th>2</th>\n",
       "      <td>0019_01</td>\n",
       "      <td>True</td>\n",
       "    </tr>\n",
       "    <tr>\n",
       "      <th>3</th>\n",
       "      <td>0021_01</td>\n",
       "      <td>True</td>\n",
       "    </tr>\n",
       "    <tr>\n",
       "      <th>4</th>\n",
       "      <td>0023_01</td>\n",
       "      <td>True</td>\n",
       "    </tr>\n",
       "  </tbody>\n",
       "</table>\n",
       "</div>"
      ],
      "text/plain": [
       "  PassengerId  Transported\n",
       "0     0013_01         True\n",
       "1     0018_01        False\n",
       "2     0019_01         True\n",
       "3     0021_01         True\n",
       "4     0023_01         True"
      ]
     },
     "execution_count": 193,
     "metadata": {},
     "output_type": "execute_result"
    }
   ],
   "source": [
    "final.columns = [\"PassengerId\",\"Transported\"]\n",
    "final[\"Transported\"]= final[\"Transported\"].astype(\"bool\")\n",
    "final.head()"
   ]
  },
  {
   "cell_type": "code",
   "execution_count": 195,
   "id": "42e5311e",
   "metadata": {},
   "outputs": [],
   "source": [
    "final.to_csv(\"Spaceship_Titanic_Results.csv\", index= False)"
   ]
  }
 ],
 "metadata": {
  "kernelspec": {
   "display_name": "Python 3",
   "language": "python",
   "name": "python3"
  },
  "language_info": {
   "codemirror_mode": {
    "name": "ipython",
    "version": 3
   },
   "file_extension": ".py",
   "mimetype": "text/x-python",
   "name": "python",
   "nbconvert_exporter": "python",
   "pygments_lexer": "ipython3",
   "version": "3.8.8"
  }
 },
 "nbformat": 4,
 "nbformat_minor": 5
}
